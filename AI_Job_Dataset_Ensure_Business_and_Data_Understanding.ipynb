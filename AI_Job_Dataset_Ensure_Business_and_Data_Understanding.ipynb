{
  "nbformat": 4,
  "nbformat_minor": 0,
  "metadata": {
    "colab": {
      "provenance": [],
      "authorship_tag": "ABX9TyMJsewJYqFJn5Sq8CFSJuEn",
      "include_colab_link": true
    },
    "kernelspec": {
      "name": "python3",
      "display_name": "Python 3"
    },
    "language_info": {
      "name": "python"
    }
  },
  "cells": [
    {
      "cell_type": "markdown",
      "metadata": {
        "id": "view-in-github",
        "colab_type": "text"
      },
      "source": [
        "<a href=\"https://colab.research.google.com/github/paranthaman76/ai-job-dataset/blob/main/AI_Job_Dataset_Ensure_Business_and_Data_Understanding.ipynb\" target=\"_parent\"><img src=\"https://colab.research.google.com/assets/colab-badge.svg\" alt=\"Open In Colab\"/></a>"
      ]
    },
    {
      "cell_type": "code",
      "source": [
        "#Finding the most common job title\n",
        "\n",
        "job_title_counts = {}\n",
        "\n",
        "for job in jobdata:\n",
        "  title = job['job_title']\n",
        "  job_tittle_counts[title] = job_tittle_counts.get(title,0) + 1\n",
        "\n",
        "\n",
        "#Another method :\n",
        "\n",
        "most_common_title = None\n",
        "max_count = 0\n",
        "\n",
        "for title,count in job_title_counts.items():\n",
        "  if count > max_count:\n",
        "    most_common_title = title\n",
        "    max_count = count\n",
        "print(f\"The most common title is : '{most_common_title}'appearing {max_count} times.\\n\")\n",
        "\n"
      ],
      "metadata": {
        "colab": {
          "base_uri": "https://localhost:8080/"
        },
        "id": "YGEvxrZpKLiX",
        "outputId": "ccf64fa5-7f1f-49d5-a079-50d398e93164"
      },
      "execution_count": null,
      "outputs": [
        {
          "output_type": "stream",
          "name": "stdout",
          "text": [
            "The most common title is : 'None'appearing 0 times.\n",
            "\n"
          ]
        }
      ]
    },
    {
      "cell_type": "code",
      "source": [
        "#Count the number of unique company location values\n",
        "\n",
        "unique_location = set()\n",
        "\n",
        "\n",
        "# for job in jobdata:\n",
        "#   location = job['company_location']\n",
        "#   unique_locations.add(location)\n",
        "\n",
        "#Another method :\n",
        "\n",
        "for job in jobdata:\n",
        "  unique_location.add(job['company_location'])\n",
        "print(f\"There are{len(unique_location)} unique company locations.\\n\")\n"
      ],
      "metadata": {
        "colab": {
          "base_uri": "https://localhost:8080/"
        },
        "id": "ocwdhZzYO6HH",
        "outputId": "390277c8-dbcc-40cd-aeb9-8a48f74e84e2"
      },
      "execution_count": null,
      "outputs": [
        {
          "output_type": "stream",
          "name": "stdout",
          "text": [
            "There are20 unique company locations.\n",
            "\n"
          ]
        }
      ]
    },
    {
      "cell_type": "code",
      "source": [
        "#Filtering Jobs based on experience Levels\n",
        "senior_jobs = []\n",
        "\n",
        "for job in jobdata:\n",
        "  if job['experience_level'] == 'SE':\n",
        "    senior_jobs.append(job)\n",
        "print(f\" There are {len(senior_jobs)}'senior level' job in the dataset.\\n\")\n",
        "\n",
        "\n",
        "\n"
      ],
      "metadata": {
        "colab": {
          "base_uri": "https://localhost:8080/"
        },
        "id": "lHfq_V-lQTie",
        "outputId": "c83178a0-ddbb-412d-a4b9-85f997aca5db"
      },
      "execution_count": null,
      "outputs": [
        {
          "output_type": "stream",
          "name": "stdout",
          "text": [
            " There are 3741'senior level' job in the dataset.\n",
            "\n"
          ]
        }
      ]
    },
    {
      "cell_type": "code",
      "source": [
        "#Display a sample of senior jobs (First 4)\n",
        "\n",
        "if senior_jobs:\n",
        "  for i,job in enumerate(senior_jobs[:4]):\n",
        "    print(f\"Job {i+1}: Title = {job['job_title']},salary =${job['salary_usd']:,.0f},company={job['company_name']},experience={job['years_experience']}\\n\")\n",
        "\n",
        "else:\n",
        "  print(\"No senior level jobs found.\\n\")"
      ],
      "metadata": {
        "colab": {
          "base_uri": "https://localhost:8080/"
        },
        "id": "MKQchgijbKR4",
        "outputId": "68cd23c5-bf27-4be5-c8a6-683a3710054b"
      },
      "execution_count": null,
      "outputs": [
        {
          "output_type": "stream",
          "name": "stdout",
          "text": [
            "Job 1: Title = AI Research Scientist,salary =$90,376,company=Smart Analytics,experience=9\n",
            "\n",
            "Job 2: Title = NLP Engineer,salary =$80,215,company=Future Systems,experience=7\n",
            "\n",
            "Job 3: Title = AI Architect,salary =$123,574,company=Neural Networks Co,experience=7\n",
            "\n",
            "Job 4: Title = Data Analyst,salary =$160,710,company=Quantum Computing Inc,experience=7\n",
            "\n"
          ]
        }
      ]
    },
    {
      "cell_type": "code",
      "source": [
        "#Calculate the median remote_ratio\n",
        "\n",
        "remote_ratio = []\n",
        "for job in jobdata:\n",
        "  remote_ratio.append(job['remote_ratio'])\n",
        "remote_ratio.sort()\n",
        "#print(remote_ratio)\n",
        "\n",
        "#finding median with odd and even form\n",
        "\n",
        "# n = len(remote_ratio)\n",
        "# if n % 2 == 0:\n",
        "# median = (remote_ratio[n//2 -1] + remote_ratio[n//2])/2\n",
        "# else:\n",
        "# median = remote_ratio[n//2]\n",
        "\n",
        "# Another method:\n",
        "\n",
        "n = len(remote_ratio)\n",
        "\n",
        "if n % 2 == 0:\n",
        "  median_remote_required = (remote_ratio[n // 2 - 1] + remote_ratio[n // 2])/2\n",
        "  print(f\"The median remote_ratio is: {median_remote_required: .2f}\\n\")\n",
        "else:\n",
        "  median_remote_required = remote_ratio[n//2]\n",
        "  print(f\"The median remote_ratio is: {median_remote_required: .2f}\\n\")"
      ],
      "metadata": {
        "colab": {
          "base_uri": "https://localhost:8080/"
        },
        "id": "EY9rEp87dkyA",
        "outputId": "b4443915-7410-4ba8-bc91-e9cdab47c97c"
      },
      "execution_count": null,
      "outputs": [
        {
          "output_type": "stream",
          "name": "stdout",
          "text": [
            "The median remote_ratio is:  50.00\n",
            "\n"
          ]
        }
      ]
    },
    {
      "cell_type": "code",
      "source": [
        "#Determine the distrobution of remote ratio\n",
        "# THis task counts how many jobs fall in to each remote ratio\n",
        "\n",
        "remote_ratio_counts = {}\n",
        "for job in jobdata:\n",
        "  ratio = job['remote_ratio']\n",
        "  remote_ratio_counts[ratio] = remote_ratio_counts.get(ratio,0)+1\n",
        "\n",
        "print(\"Distribution of remote ratios\")\n",
        "\n",
        "sorted_remote_ratios = sorted(remote_ratio_counts.items())\n",
        "for ratio,count in sorted_remote_ratios:\n",
        "    percentage = (count/len(jobdata))*100\n",
        "    print(f\"{ratio}: {count} ({percentage:.2f}%)\")\n",
        "    print(\"\\n\")\n"
      ],
      "metadata": {
        "colab": {
          "base_uri": "https://localhost:8080/"
        },
        "id": "GR9tZcCltLma",
        "outputId": "423c80a3-74ab-41ff-973b-2386c1d94b0d"
      },
      "execution_count": null,
      "outputs": [
        {
          "output_type": "stream",
          "name": "stdout",
          "text": [
            "Distribution of remote ratios\n",
            "0: 5075 (33.83%)\n",
            "\n",
            "\n",
            "50: 5005 (33.37%)\n",
            "\n",
            "\n",
            "100: 4920 (32.80%)\n",
            "\n",
            "\n"
          ]
        }
      ]
    },
    {
      "cell_type": "code",
      "source": [
        "# Identify top 3 most skills:\n",
        "\n",
        "skill_counts = {}\n",
        "for job in jobdata:\n",
        "  skills_string = job['required_skills']\n",
        "  #Split skills by comma and strip whitespace from each skill\n",
        "  skills = [s.strip() for s in skills_string.split(',')]\n",
        "  for skill in skills:\n",
        "       if skill: #Ensure skill is not an empty string\n",
        "            skill_counts[skill] = skill_counts.get(skill,0) + 1\n",
        "\n",
        "    #Convert dictionary to a list of (skill,count) tuples for sorting\n",
        "sorted_skills = sorted(skill_counts.items(),key=lambda item: item[1],reverse=True)\n",
        "\n",
        "   #Printing top 3 most frequent skills\n",
        "\n",
        "for i,(skill,count) in enumerate(sorted_skills[:3]):\n",
        "        print(f\"{i + 1}.{skill}:{count} times\")\n",
        "print(\"\\n\")"
      ],
      "metadata": {
        "colab": {
          "base_uri": "https://localhost:8080/"
        },
        "id": "7yWD8hLatzWA",
        "outputId": "be5ebf35-191a-4ae8-d235-d273e2204f9e"
      },
      "execution_count": null,
      "outputs": [
        {
          "output_type": "stream",
          "name": "stdout",
          "text": [
            "1.Python:4450 times\n",
            "2.SQL:3407 times\n",
            "3.TensorFlow:3022 times\n",
            "\n",
            "\n"
          ]
        }
      ]
    },
    {
      "cell_type": "code",
      "source": [
        "#Finding average years of experience of each experience level\n",
        "\n",
        "experience_level_data = {}\n",
        "\n",
        "# for level,stats in experience_level_data.items():\n",
        "#   average_years = stats['total_years']/stats['count']\n",
        "\n",
        "#Another method\n",
        "\n",
        "for job in jobdata:\n",
        "  level = job['experience_level']\n",
        "  years = job['years_experience']\n",
        "  if level not in experience_level_data:\n",
        "    experience_level_data[level] = [0,0] #totalyears,count\n",
        "    experience_level_data[level][0] +=years\n",
        "    experience_level_data[level][1] +=1\n",
        "\n",
        "    #Average years of experience by experience level\n",
        "for level,data in experience_level_data.items():\n",
        "     avg_years = data[0] / data[1]\n",
        "     print(f\"The average years of experience for {level} is : {avg_years:.2f}\\n\")"
      ],
      "metadata": {
        "colab": {
          "base_uri": "https://localhost:8080/"
        },
        "id": "g5z5LcPIvYMe",
        "outputId": "509c87d7-8f4b-48af-abd7-f8b0af236b95"
      },
      "execution_count": null,
      "outputs": [
        {
          "output_type": "stream",
          "name": "stdout",
          "text": [
            "The average years of experience for SE is : 9.00\n",
            "\n",
            "The average years of experience for EN is : 1.00\n",
            "\n",
            "The average years of experience for MI is : 2.00\n",
            "\n",
            "The average years of experience for EX is : 15.00\n",
            "\n"
          ]
        }
      ]
    }
  ]
}